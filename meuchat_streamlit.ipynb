{
  "nbformat": 4,
  "nbformat_minor": 0,
  "metadata": {
    "colab": {
      "provenance": [],
      "authorship_tag": "ABX9TyMumgO7nvpOnF12IeHWL7Uh",
      "include_colab_link": true
    },
    "kernelspec": {
      "name": "python3",
      "display_name": "Python 3"
    },
    "language_info": {
      "name": "python"
    }
  },
  "cells": [
    {
      "cell_type": "markdown",
      "metadata": {
        "id": "view-in-github",
        "colab_type": "text"
      },
      "source": [
        "<a href=\"https://colab.research.google.com/github/davimatfacil/alura_ia_chalenge/blob/main/meuchat_streamlit.ipynb\" target=\"_parent\"><img src=\"https://colab.research.google.com/assets/colab-badge.svg\" alt=\"Open In Colab\"/></a>"
      ]
    },
    {
      "cell_type": "code",
      "execution_count": null,
      "metadata": {
        "id": "UaYm8Trmg_pc"
      },
      "outputs": [],
      "source": [
        "!pip install -U -q google-generativeai\n",
        "import streamlit as st\n",
        "import google.generativeai as genai\n",
        "from google.colab import userdata\n"
      ]
    },
    {
      "cell_type": "code",
      "source": [
        "api_key = userdata.get('SECRET_KEY')\n",
        "if not api_key:\n",
        "    api_key = st.text_input('Enter your Google Generative AI API Key', type='password')\n",
        "    userdata.put('SECRET_KEY', api_key)\n"
      ],
      "metadata": {
        "id": "MytAxks0hQB9"
      },
      "execution_count": null,
      "outputs": []
    },
    {
      "cell_type": "code",
      "source": [
        "generation_config = {\n",
        "    'candidate_count': 1,  # Number of responses\n",
        "    'temperature': 0.5   # Controls randomness in response generation\n",
        "}\n",
        "\n",
        "safety_settings = {\n",
        "    'HARASSMENT': 'BLOCK_NONE',\n",
        "    'HATE': 'BLOCK_NONE',\n",
        "    'SEXUAL': 'BLOCK_NONE',\n",
        "    'DANGEROUS': 'BLOCK_NONE'\n",
        "}\n",
        "\n",
        "model = genai.GenerativeModel(\n",
        "    model_name='gemini-1.0-pro',\n",
        "    generation_config=generation_config,\n",
        "    safety_settings=safety_settings\n",
        ")\n"
      ],
      "metadata": {
        "id": "BFcd0353hp99"
      },
      "execution_count": null,
      "outputs": []
    },
    {
      "cell_type": "code",
      "source": [
        "st.title('Gemini Chatbot')\n",
        "\n",
        "user_input = st.text_input('Enter a message for the chatbot:')\n"
      ],
      "metadata": {
        "id": "0QjY8ir7hxkY"
      },
      "execution_count": null,
      "outputs": []
    },
    {
      "cell_type": "code",
      "source": [
        "if 'chat_history' not in st.session_state:\n",
        "    st.session_state['chat_history'] = []\n"
      ],
      "metadata": {
        "id": "BrEBl7Ulh19c"
      },
      "execution_count": null,
      "outputs": []
    },
    {
      "cell_type": "code",
      "source": [
        "if user_input:\n",
        "    if 'chat_history' not in st.session_state:\n",
        "        chat = model.start_chat(history=[])\n",
        "    else:\n",
        "        chat = model.start_chat(history=st.session_state['chat_history'])  # Use chat history if available\n",
        "\n",
        "    response = chat.send_message(user_input)\n",
        "\n",
        "    st.session_state['chat_history'].append({'user': user_input, 'bot': response.text})\n",
        "\n",
        "    st.write('You:', user_input)\n",
        "    st.write('Chatbot:', response.text)\n"
      ],
      "metadata": {
        "id": "cQH5g2zGxhbA"
      },
      "execution_count": null,
      "outputs": []
    },
    {
      "cell_type": "code",
      "source": [
        "\n",
        "\n"
      ],
      "metadata": {
        "id": "SqNS1Lh0xrVv"
      },
      "execution_count": 20,
      "outputs": []
    },
    {
      "cell_type": "code",
      "source": [],
      "metadata": {
        "id": "R-T_O7srxuvE"
      },
      "execution_count": null,
      "outputs": []
    }
  ]
}